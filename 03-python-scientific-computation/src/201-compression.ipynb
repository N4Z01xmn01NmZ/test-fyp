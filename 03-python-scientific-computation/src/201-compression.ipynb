{
 "cells": [
  {
   "cell_type": "markdown",
   "source": [
    "# Penerapan Dekomposisi Nilai Singular Untuk Mengkompresi Citra"
   ],
   "metadata": {}
  },
  {
   "cell_type": "code",
   "execution_count": null,
   "source": [
    "import sys\r\n",
    "import numpy as np\r\n",
    "import cv2 as cv\r\n",
    "import matplotlib.pyplot as plt\r\n",
    "import ipywidgets as widgets\r\n",
    "from numpy.core.fromnumeric import size"
   ],
   "outputs": [],
   "metadata": {}
  },
  {
   "cell_type": "markdown",
   "source": [
    "Paket OpenCV dapat mengambil data dari gambar, gif, maupun video. Fungsi `imread` akan mengembalikan nilai berupa `numpy.array`."
   ],
   "metadata": {}
  },
  {
   "cell_type": "code",
   "execution_count": null,
   "source": [
    "# Specify path relative to current file.\r\n",
    "img_path = \"./../res/Test.png\"\r\n",
    "# Read image and convert to the 3 channel BGR color.\r\n",
    "img = cv.imread(img_path, cv.IMREAD_COLOR)\r\n",
    "\r\n",
    "if img is None:\r\n",
    "    sys.exit(\"Image could not be read.\")\r\n",
    "print(\"Image properties:\\n\",\r\n",
    "    f\"Shape: {img.shape}\\n\",\r\n",
    "    f\"Size:  {img.size:,} bytes\")\r\n",
    "\r\n",
    "# OpenCV uses BGR format while matplotlib uses RGB format.\r\n",
    "img_plot = plt.imshow(cv.cvtColor(img, cv.COLOR_BGR2RGB))\r\n",
    "plt.show() "
   ],
   "outputs": [],
   "metadata": {}
  },
  {
   "cell_type": "markdown",
   "source": [
    "Untuk memudahkan perhitungan, gambar yang awalnya memiliki tiga kanal warna diubah menjadi format keabuan yang memiliki satu kanal warna."
   ],
   "metadata": {}
  },
  {
   "cell_type": "code",
   "execution_count": null,
   "source": [
    "# Convert image into single channel greyscale format.\r\n",
    "imgGrey = cv.cvtColor(img, cv.COLOR_BGR2GRAY)\r\n",
    "print(\"Image properties:\\n\",\r\n",
    "    f\"Shape: {imgGrey.shape}\\n\",\r\n",
    "    f\"Size:  {imgGrey.size:,} bytes\")\r\n",
    "\r\n",
    "imgGrey_plot = plt.imshow(imgGrey)\r\n",
    "imgGrey_plot.set_cmap('gray')\r\n",
    "plt.show()"
   ],
   "outputs": [],
   "metadata": {}
  },
  {
   "cell_type": "markdown",
   "source": [
    "## Dekomposisi Nilai Singular\r\n",
    "\r\n",
    "**Dekomposisi nilai singular** adalah faktorisasi matriks persegi panjang berukuran $m \\times n$ menjadi matrix vektor singular $U$, $V$ dan matriks diagonal nilai singular $\\Sigma$.\r\n",
    "\r\n",
    "$$\r\n",
    "X = U \\Sigma V^\\top\r\n",
    "$$"
   ],
   "metadata": {}
  },
  {
   "cell_type": "code",
   "execution_count": null,
   "source": [
    "# Singular value decomposition\r\n",
    "U, s, Vt = np.linalg.svd(imgGrey, full_matrices=False)\r\n",
    "S = np.diag(s)\r\n",
    "\r\n",
    "rSlider = widgets.IntSlider(\r\n",
    "    value=s.size//2.41,\r\n",
    "    min=0,\r\n",
    "    max=s.size,\r\n",
    "    step=s.size//100,\r\n",
    "    description=\"Rank: \",\r\n",
    ")\r\n",
    "rText = widgets.IntText(description=\"Value: \")\r\n",
    "widgets.link((rSlider, \"value\"), (rText, \"value\"))\r\n",
    "widgets.VBox([rSlider, rText])"
   ],
   "outputs": [],
   "metadata": {}
  },
  {
   "cell_type": "markdown",
   "source": [
    "## Rekonstruksi Gambar\r\n",
    "\r\n",
    "Jika $r$ kolom pertama matriks $U$, r nilai singular pertama matriks diagonal $\\Sigma$, dan r kolom pertama matriks $V^\\top$ dikalikan. Maka akan didapat nilai perkiraan matriks semula dari gambar yang didekomposisi."
   ],
   "metadata": {}
  },
  {
   "cell_type": "code",
   "execution_count": null,
   "source": [
    "# Matrix reconstruction\r\n",
    "imgApprox = U[:, :rSlider.value] @ S[0:rSlider.value, :rSlider.value] @ Vt[:rSlider.value, :]\r\n",
    "print(\"Matrix properties:\")\r\n",
    "print(\"U:\\n\",\r\n",
    "    f\"Shape: {U[:, :rSlider.value].shape}\\n\",\r\n",
    "    f\"Size:  {U[:, :rSlider.value].size:,} bytes\")\r\n",
    "print(\"S:\\n\",\r\n",
    "    f\"Shape: {S[0:rSlider.value, :rSlider.value].shape}\\n\",\r\n",
    "    f\"Size:  {S[0:rSlider.value, :rSlider.value].size:,} bytes\")\r\n",
    "print(\"S:\\n\",\r\n",
    "    f\"Shape: {Vt[:rSlider.value, :].shape}\\n\",\r\n",
    "    f\"Size:  {Vt[:rSlider.value, :].size:,} bytes\")\r\n",
    "print(f\"Total size: {U[:, :rSlider.value].size + S[0:rSlider.value, :rSlider.value].size + Vt[:rSlider.value, :].size:,} bytes\")\r\n",
    "\r\n",
    "imgApprox_plot = plt.imshow(imgApprox)\r\n",
    "imgApprox_plot.set_cmap('gray')\r\n",
    "plt.title('r = ' + str(rSlider.value))\r\n",
    "plt.show()"
   ],
   "outputs": [],
   "metadata": {}
  },
  {
   "cell_type": "code",
   "execution_count": null,
   "source": [
    "plt.figure(1)\r\n",
    "plt.semilogy(np.diag(S))\r\n",
    "plt.title(\"Singular Values\")\r\n",
    "plt.show()\r\n",
    "\r\n",
    "plt.figure(2)\r\n",
    "plt.plot(np.cumsum(np.diag(S))/np.sum(np.diag(S)))\r\n",
    "plt.title(\"Singular Values: Cumulative Sum\")\r\n",
    "plt.show()"
   ],
   "outputs": [],
   "metadata": {}
  }
 ],
 "metadata": {
  "orig_nbformat": 4,
  "language_info": {
   "name": "python",
   "version": "3.9.6",
   "mimetype": "text/x-python",
   "codemirror_mode": {
    "name": "ipython",
    "version": 3
   },
   "pygments_lexer": "ipython3",
   "nbconvert_exporter": "python",
   "file_extension": ".py"
  },
  "kernelspec": {
   "name": "python3",
   "display_name": "Python 3.9.6 64-bit"
  },
  "interpreter": {
   "hash": "ac59ebe37160ed0dfa835113d9b8498d9f09ceb179beaac4002f036b9467c963"
  }
 },
 "nbformat": 4,
 "nbformat_minor": 2
}